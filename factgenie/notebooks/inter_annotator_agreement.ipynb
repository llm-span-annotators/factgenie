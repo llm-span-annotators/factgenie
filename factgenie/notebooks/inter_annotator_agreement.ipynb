{
 "cells": [
  {
   "cell_type": "code",
   "execution_count": 4,
   "metadata": {},
   "outputs": [
    {
     "name": "stdout",
     "output_type": "stream",
     "text": [
      "Requirement already satisfied: pygamma-agreement in /lnet/work/people/kasner/virtualenv/factgenie/lib/python3.10/site-packages (0.5.9)\n",
      "Requirement already satisfied: cylp in /lnet/work/people/kasner/virtualenv/factgenie/lib/python3.10/site-packages (0.92.3)\n",
      "Requirement already satisfied: pandas in /lnet/work/people/kasner/virtualenv/factgenie/lib/python3.10/site-packages (2.2.2)\n",
      "Requirement already satisfied: numpy in /lnet/work/people/kasner/virtualenv/factgenie/lib/python3.10/site-packages (1.26.4)\n",
      "Requirement already satisfied: tqdm in /lnet/work/people/kasner/virtualenv/factgenie/lib/python3.10/site-packages (4.66.4)\n",
      "Requirement already satisfied: scipy in /lnet/work/people/kasner/virtualenv/factgenie/lib/python3.10/site-packages (1.14.1)\n",
      "Requirement already satisfied: matplotlib in /lnet/work/people/kasner/virtualenv/factgenie/lib/python3.10/site-packages (3.10.0)\n",
      "Requirement already satisfied: sortedcontainers>=2.0.4 in /lnet/work/people/kasner/virtualenv/factgenie/lib/python3.10/site-packages (from pygamma-agreement) (2.4.0)\n",
      "Requirement already satisfied: pyannote.core>=4.1 in /lnet/work/people/kasner/virtualenv/factgenie/lib/python3.10/site-packages (from pygamma-agreement) (5.0.0)\n",
      "Requirement already satisfied: cvxpy>=1.0.25 in /lnet/work/people/kasner/virtualenv/factgenie/lib/python3.10/site-packages (from pygamma-agreement) (1.6.0)\n",
      "Requirement already satisfied: cvxopt==1.3.2 in /lnet/work/people/kasner/virtualenv/factgenie/lib/python3.10/site-packages (from pygamma-agreement) (1.3.2)\n",
      "Requirement already satisfied: numba>=0.54.0 in /lnet/work/people/kasner/virtualenv/factgenie/lib/python3.10/site-packages (from pygamma-agreement) (0.60.0)\n",
      "Requirement already satisfied: typing-extensions>=3.7.4.3 in /lnet/work/people/kasner/virtualenv/factgenie/lib/python3.10/site-packages (from pygamma-agreement) (4.12.2)\n",
      "Requirement already satisfied: TextGrid>=1.5 in /lnet/work/people/kasner/virtualenv/factgenie/lib/python3.10/site-packages (from pygamma-agreement) (1.6.1)\n",
      "Requirement already satisfied: pympi-ling>=1.69 in /lnet/work/people/kasner/virtualenv/factgenie/lib/python3.10/site-packages (from pygamma-agreement) (1.70.2)\n",
      "Requirement already satisfied: pyannote.database>=4.1 in /lnet/work/people/kasner/virtualenv/factgenie/lib/python3.10/site-packages (from pygamma-agreement) (5.1.3)\n",
      "Requirement already satisfied: hypothesis in /lnet/work/people/kasner/virtualenv/factgenie/lib/python3.10/site-packages (from cylp) (6.124.1)\n",
      "Requirement already satisfied: python-dateutil>=2.8.2 in /lnet/work/people/kasner/virtualenv/factgenie/lib/python3.10/site-packages (from pandas) (2.9.0.post0)\n",
      "Requirement already satisfied: pytz>=2020.1 in /lnet/work/people/kasner/virtualenv/factgenie/lib/python3.10/site-packages (from pandas) (2024.1)\n",
      "Requirement already satisfied: tzdata>=2022.7 in /lnet/work/people/kasner/virtualenv/factgenie/lib/python3.10/site-packages (from pandas) (2024.1)\n",
      "Requirement already satisfied: contourpy>=1.0.1 in /lnet/work/people/kasner/virtualenv/factgenie/lib/python3.10/site-packages (from matplotlib) (1.3.1)\n",
      "Requirement already satisfied: cycler>=0.10 in /lnet/work/people/kasner/virtualenv/factgenie/lib/python3.10/site-packages (from matplotlib) (0.12.1)\n",
      "Requirement already satisfied: fonttools>=4.22.0 in /lnet/work/people/kasner/virtualenv/factgenie/lib/python3.10/site-packages (from matplotlib) (4.55.4)\n",
      "Requirement already satisfied: kiwisolver>=1.3.1 in /lnet/work/people/kasner/virtualenv/factgenie/lib/python3.10/site-packages (from matplotlib) (1.4.8)\n",
      "Requirement already satisfied: packaging>=20.0 in /lnet/work/people/kasner/virtualenv/factgenie/lib/python3.10/site-packages (from matplotlib) (24.0)\n",
      "Requirement already satisfied: pillow>=8 in /lnet/work/people/kasner/virtualenv/factgenie/lib/python3.10/site-packages (from matplotlib) (11.1.0)\n",
      "Requirement already satisfied: pyparsing>=2.3.1 in /lnet/work/people/kasner/virtualenv/factgenie/lib/python3.10/site-packages (from matplotlib) (3.2.1)\n",
      "Requirement already satisfied: osqp>=0.6.2 in /lnet/work/people/kasner/virtualenv/factgenie/lib/python3.10/site-packages (from cvxpy>=1.0.25->pygamma-agreement) (0.6.7.post3)\n",
      "Requirement already satisfied: clarabel>=0.5.0 in /lnet/work/people/kasner/virtualenv/factgenie/lib/python3.10/site-packages (from cvxpy>=1.0.25->pygamma-agreement) (0.9.0)\n",
      "Requirement already satisfied: scs>=3.2.4.post1 in /lnet/work/people/kasner/virtualenv/factgenie/lib/python3.10/site-packages (from cvxpy>=1.0.25->pygamma-agreement) (3.2.7.post2)\n",
      "Requirement already satisfied: llvmlite<0.44,>=0.43.0dev0 in /lnet/work/people/kasner/virtualenv/factgenie/lib/python3.10/site-packages (from numba>=0.54.0->pygamma-agreement) (0.43.0)\n",
      "Requirement already satisfied: pyYAML>=3.12 in /lnet/work/people/kasner/virtualenv/factgenie/lib/python3.10/site-packages (from pyannote.database>=4.1->pygamma-agreement) (6.0.2)\n",
      "Requirement already satisfied: typer>=0.12.1 in /lnet/work/people/kasner/virtualenv/factgenie/lib/python3.10/site-packages (from pyannote.database>=4.1->pygamma-agreement) (0.15.1)\n",
      "Requirement already satisfied: six>=1.5 in /lnet/work/people/kasner/virtualenv/factgenie/lib/python3.10/site-packages (from python-dateutil>=2.8.2->pandas) (1.16.0)\n",
      "Requirement already satisfied: attrs>=22.2.0 in /lnet/work/people/kasner/virtualenv/factgenie/lib/python3.10/site-packages (from hypothesis->cylp) (23.2.0)\n",
      "Requirement already satisfied: exceptiongroup>=1.0.0 in /lnet/work/people/kasner/virtualenv/factgenie/lib/python3.10/site-packages (from hypothesis->cylp) (1.2.1)\n",
      "Requirement already satisfied: qdldl in /lnet/work/people/kasner/virtualenv/factgenie/lib/python3.10/site-packages (from osqp>=0.6.2->cvxpy>=1.0.25->pygamma-agreement) (0.1.7.post5)\n",
      "Requirement already satisfied: click>=8.0.0 in /lnet/work/people/kasner/virtualenv/factgenie/lib/python3.10/site-packages (from typer>=0.12.1->pyannote.database>=4.1->pygamma-agreement) (8.1.7)\n",
      "Requirement already satisfied: shellingham>=1.3.0 in /lnet/work/people/kasner/virtualenv/factgenie/lib/python3.10/site-packages (from typer>=0.12.1->pyannote.database>=4.1->pygamma-agreement) (1.5.4)\n",
      "Requirement already satisfied: rich>=10.11.0 in /lnet/work/people/kasner/virtualenv/factgenie/lib/python3.10/site-packages (from typer>=0.12.1->pyannote.database>=4.1->pygamma-agreement) (13.9.4)\n",
      "Requirement already satisfied: markdown-it-py>=2.2.0 in /lnet/work/people/kasner/virtualenv/factgenie/lib/python3.10/site-packages (from rich>=10.11.0->typer>=0.12.1->pyannote.database>=4.1->pygamma-agreement) (3.0.0)\n",
      "Requirement already satisfied: pygments<3.0.0,>=2.13.0 in /lnet/work/people/kasner/virtualenv/factgenie/lib/python3.10/site-packages (from rich>=10.11.0->typer>=0.12.1->pyannote.database>=4.1->pygamma-agreement) (2.18.0)\n",
      "Requirement already satisfied: mdurl~=0.1 in /lnet/work/people/kasner/virtualenv/factgenie/lib/python3.10/site-packages (from markdown-it-py>=2.2.0->rich>=10.11.0->typer>=0.12.1->pyannote.database>=4.1->pygamma-agreement) (0.1.2)\n",
      "\n",
      "\u001b[1m[\u001b[0m\u001b[34;49mnotice\u001b[0m\u001b[1;39;49m]\u001b[0m\u001b[39;49m A new release of pip is available: \u001b[0m\u001b[31;49m24.0\u001b[0m\u001b[39;49m -> \u001b[0m\u001b[32;49m25.0\u001b[0m\n",
      "\u001b[1m[\u001b[0m\u001b[34;49mnotice\u001b[0m\u001b[1;39;49m]\u001b[0m\u001b[39;49m To update, run: \u001b[0m\u001b[32;49mpip install --upgrade pip\u001b[0m\n",
      "Note: you may need to restart the kernel to use updated packages.\n"
     ]
    }
   ],
   "source": [
    "%pip install pygamma-agreement cylp pandas numpy tqdm scipy matplotlib"
   ]
  },
  {
   "cell_type": "markdown",
   "metadata": {},
   "source": [
    "## Computing inter-annotator agreement (IAA) with factgenie\n",
    "\n",
    "This notebook shows how to compute inter-annotator agreement (IAA) between annotators.\n",
    "\n",
    "# Pearson r\n",
    "\n",
    "First, we will use the **Pearson correlation coefficient** to measure the agreement between two annotator groups.\n",
    "\n",
    "Specifically, we will measure how much the **error counts** agree. \n",
    "\n",
    "In the ideal case, both annotator groups annotated the **same amount of errors of each category** for each example. The Pearson r coefficient will help us to quantify to which extent it is true. The value of 1 signifies perfect *positive linear correlation*, 0 signifies no linear correlation, -1 signifies perfect *negative linear correllation*."
   ]
  },
  {
   "cell_type": "code",
   "execution_count": 5,
   "metadata": {},
   "outputs": [],
   "source": [
    "from scipy.stats import pearsonr\n",
    "import numpy as np\n",
    "import pandas as pd\n",
    "import logging\n",
    "import traceback\n",
    "\n",
    "\n",
    "def compute_pearson_r(df, group1, group2):\n",
    "    group1_data = df[df['annotator_group_id'] == group1]\n",
    "    group2_data = df[df['annotator_group_id'] == group2]\n",
    "    \n",
    "    group1_counts = list(group1_data[\"count\"])\n",
    "    group2_counts = list(group2_data[\"count\"])\n",
    "\n",
    "    # Micro correlation - correlation of counts\n",
    "    micro_corr = pearsonr(group1_counts, group2_counts)[0]\n",
    "\n",
    "    # Macro correlation - average of per-type correlations\n",
    "    type_corrs = []\n",
    "    for ann_type in df['annotation_type'].unique():\n",
    "        g1_type = list(group1_data[group1_data['annotation_type'] == ann_type][\"count\"])\n",
    "        g2_type = list(group2_data[group2_data['annotation_type'] == ann_type][\"count\"])\n",
    "\n",
    "        type_corrs.append(pearsonr(g1_type, g2_type)[0])\n",
    "    \n",
    "    macro_corr = np.mean(type_corrs)\n",
    "    \n",
    "    return {'micro': micro_corr, 'macro': macro_corr, 'category_correlations': type_corrs}"
   ]
  },
  {
   "cell_type": "markdown",
   "metadata": {},
   "source": [
    "\n",
    "### Input data\n",
    "For computing Pearson r, you will need (at least one of) the CSV files generated by factgenie:\n",
    "- `example_level_counts.csv` - absolute error counts for each (dataset, split, setup_id, example_idx) combination,\n",
    "- `dataset_level_counts.csv` - average error counts for each (dataset, split, setup_id) combination.\n",
    "\n",
    "You can generate these files on the `/analyze` page (on the Inter-annotator agreement tab). On that page, you need to select the campaign(s) with multiple annotators per example and select `Export data files`.\n"
   ]
  },
  {
   "cell_type": "code",
   "execution_count": 6,
   "metadata": {},
   "outputs": [],
   "source": [
    "# Set the directory where the csv files are located here\n",
    "csv_dir = \".\"\n",
    "\n",
    "level = \"example\"\n",
    "\n",
    "csv_filename = f\"{csv_dir}/{level}_level_counts.csv\"\n",
    "# Load data\n",
    "df = pd.read_csv(csv_filename)"
   ]
  },
  {
   "cell_type": "markdown",
   "metadata": {},
   "source": [
    "### Annotator groups\n",
    "We will always compute the correlation between two **annotator groups**. Each annotator group has an id in the format `{campaign_id}-anngroup-{group_idx}`. That means that it uniquely defines the ordinal number of the annotator within a specific campaign.\n",
    "\n",
    "Example: in the campaign `llm-eval-1`, you used two annotators per example. Then you want to measure agreement between `llm-eval-1-anngroup-0` and `llm-eval-1-anngroup-1`."
   ]
  },
  {
   "cell_type": "code",
   "execution_count": 7,
   "metadata": {},
   "outputs": [
    {
     "name": "stdout",
     "output_type": "stream",
     "text": [
      "Groups: ['quintd1-gpt-4-anngroup-0' 'quintd1-human-anngroup-0']\n",
      "Group pairs: [('quintd1-gpt-4-anngroup-0', 'quintd1-human-anngroup-0')]\n"
     ]
    }
   ],
   "source": [
    "# Use all annotator groups\n",
    "groups = df.annotator_group_id.unique()\n",
    "\n",
    "print(f\"Groups: {groups}\")\n",
    "\n",
    "from itertools import combinations\n",
    "group_pairs = list(combinations(groups, 2))\n",
    "\n",
    "print(f\"Group pairs: {group_pairs}\")"
   ]
  },
  {
   "cell_type": "markdown",
   "metadata": {},
   "source": [
    "\n",
    "### Average type\n",
    "- **Micro-average** - a coefficient computed over concatenated results from all the categories.\n",
    "- **Macro-average** - an average of coefficients computed separately for each category."
   ]
  },
  {
   "cell_type": "code",
   "execution_count": 8,
   "metadata": {},
   "outputs": [
    {
     "name": "stdout",
     "output_type": "stream",
     "text": [
      "example-level correlations between quintd1-gpt-4-anngroup-0 and quintd1-human-anngroup-0\n",
      "==============================================\n",
      "Micro Pearson-r: 0.521\n",
      "==============================================\n",
      "Category 0: 0.565\n",
      "Category 1: 0.281\n",
      "Category 2: 0.021\n",
      "Category 3: 0.130\n",
      "----------------------------------------------\n",
      "Macro Pearson-r: 0.249\n",
      "==============================================\n"
     ]
    }
   ],
   "source": [
    "# Compute correlations for all pairs of groups\n",
    "for group1, group2 in group_pairs:\n",
    "    correlations = compute_pearson_r(df, group1, group2)\n",
    "\n",
    "    print(f\"{level}-level correlations between {group1} and {group2}\")\n",
    "    print(\"==============================================\")\n",
    "\n",
    "    print(f\"Micro Pearson-r: {correlations['micro']:.3f}\")\n",
    "    print(\"==============================================\")\n",
    "\n",
    "    for i, corr in enumerate(correlations['category_correlations']):\n",
    "        print(f\"Category {i}: {corr:.3f}\")\n",
    "    print(\"----------------------------------------------\")\n",
    "\n",
    "    print(f\"Macro Pearson-r: {correlations['macro']:.3f}\")\n",
    "    print(\"==============================================\")"
   ]
  },
  {
   "cell_type": "markdown",
   "metadata": {},
   "source": [
    "# Gamma (γ) score\n",
    "Next, we compute the gamma (γ) score.\n",
    "\n",
    "This score suitable for computing IAA in cases where are both (1) determining span positions and (2) categorizing the spans.\n",
    "\n",
    "The γ score considers the best alignment between the spans and computes the value based on the number of local dissimilarities. The score will help us to quantify the correlation not just between the error counts, but also their exact **positions** on top of the output text.\n",
    "\n",
    "For full description, please refer to the original paper [Mathet et al. (2015)](https://doi.org/10.1162/COLI_a_00227).\n",
    "\n",
    "For Python, the score is implemented in the [pygamma-agreement](https://pygamma-agreement.readthedocs.io/en/latest/index.html) library.\n",
    "\n",
    "**Note that computing the score is computationally intensive. Consider saving intermediate per-example scores in case you need to repeat the experiments.**"
   ]
  },
  {
   "cell_type": "code",
   "execution_count": 9,
   "metadata": {},
   "outputs": [],
   "source": [
    "from IPython import display\n",
    "import pygamma_agreement as pa\n",
    "from pyannote.core import Segment\n",
    "from tqdm.notebook import tqdm\n",
    "\n",
    "def compute_gamma(span_index, dissim):\n",
    "    gamma_scores = []\n",
    "    running_avg = 0\n",
    "    \n",
    "    # Group examples\n",
    "    groups = list(span_index.groupby([\"dataset\", \"split\", \"setup_id\", \"example_idx\"]))\n",
    "    \n",
    "    # Create progress bar\n",
    "    pbar = tqdm(total=len(groups), desc='Computing gamma score')\n",
    "    \n",
    "\n",
    "    display.display(f\"Visualization of the best alignment\", display_id='vis_lbl')\n",
    "    display.display(f\"Waiting for the first example...\", display_id='vis')\n",
    "    \n",
    "    for idx, (i, group) in enumerate(groups, 1):\n",
    "        try:\n",
    "            # Add each annotation to continuum\n",
    "            continuum = pa.Continuum()\n",
    "\n",
    "            if group.annotator_group_id.unique().shape[0] < 2:\n",
    "                # One of the annotators did not add any annotation -> gamma = 0\n",
    "                gamma_scores.append(0.0)\n",
    "                running_avg = np.mean(gamma_scores)\n",
    "                pbar.set_postfix({'avg_gamma': f'{running_avg:.3f}'})\n",
    "                pbar.update(1)\n",
    "                continue\n",
    "\n",
    "            for j, row in group.iterrows():\n",
    "                # make sure we do not add empty segments\n",
    "                if row[\"annotation_start\"] == row[\"annotation_end\"]:\n",
    "                    continue\n",
    "\n",
    "                continuum.add(\n",
    "                    str(row[\"annotator_group_id\"]),\n",
    "                    Segment(row[\"annotation_start\"], row[\"annotation_end\"]),\n",
    "                    str(row[\"annotation_type\"]),\n",
    "                )\n",
    "\n",
    "            # Temporarily increase logging level to suppress output\n",
    "            logging.getLogger().setLevel(logging.WARNING)\n",
    "            gamma_results = continuum.compute_gamma(dissim, soft=True)\n",
    "            logging.getLogger().setLevel(logging.INFO)\n",
    "\n",
    "            # Show the best alignment for every 10th example\n",
    "            if idx % 10 == 1:\n",
    "                display.update_display(f\"Visualization of the best alignment for example {idx}\", display_id='vis_lbl')\n",
    "                display.update_display(gamma_results.best_alignment, display_id='vis')\n",
    "\n",
    "            gamma_scores.append(gamma_results.gamma)\n",
    "            running_avg = np.mean(gamma_scores)\n",
    "            \n",
    "            # Update progress bar with current average\n",
    "            pbar.set_postfix({'avg_gamma': f'{running_avg:.3f}'})\n",
    "            pbar.update(1)\n",
    "        except Exception as e:\n",
    "            traceback.print_exc()\n",
    "            print(f\"Error computing gamma for example {idx}\")\n",
    "            gamma_scores.append(0.0)\n",
    "            running_avg = np.mean(gamma_scores)\n",
    "            pbar.set_postfix({'avg_gamma': f'{running_avg:.3f}'})\n",
    "            pbar.update(1)\n",
    "    \n",
    "    pbar.close()\n",
    "    return float(np.mean(gamma_scores)) if gamma_scores else 0.0"
   ]
  },
  {
   "cell_type": "code",
   "execution_count": null,
   "metadata": {},
   "outputs": [
    {
     "data": {
      "application/vnd.jupyter.widget-view+json": {
       "model_id": "72294bcc1e0145b38869a5c158ebe91c",
       "version_major": 2,
       "version_minor": 0
      },
      "text/plain": [
       "Computing gamma score:   0%|          | 0/1881 [00:00<?, ?it/s]"
      ]
     },
     "metadata": {},
     "output_type": "display_data"
    },
    {
     "data": {
      "text/plain": [
       "'Visualization of the best alignment for example 1001'"
      ]
     },
     "metadata": {},
     "output_type": "display_data"
    },
    {
     "data": {
      "image/png": "[encoded data removed]",
      "text/plain": [
       "<pygamma_agreement.alignment.SoftAlignment at 0x7fde538c4ee0>"
      ]
     },
     "metadata": {},
     "output_type": "display_data"
    }
   ],
   "source": [
    "gamma_spans = pd.read_csv(f\"{csv_dir}/gamma_spans.csv\")\n",
    "\n",
    "# `alpha`: coefficient weighting the *positional* dissimilarity value, defaults to 1\n",
    "alpha = 1\n",
    "# `beta`: coefficient weighting the *categorical* dissimilarity value, defaults to 1\n",
    "beta = 1\n",
    "# `delta_empty`: empty dissimilarity value, defaults to 1\n",
    "dissim = pa.CombinedCategoricalDissimilarity(delta_empty=1, alpha=1, beta=1)\n",
    "gamma = compute_gamma(gamma_spans, dissim)\n",
    "\n",
    "print(f\"==============================================\")\n",
    "print(f\"Gamma score: {gamma:.3f}\")\n",
    "print(f\"==============================================\")"
   ]
  }
 ],
 "metadata": {
  "kernelspec": {
   "display_name": "factgenie",
   "language": "python",
   "name": "python3"
  },
  "language_info": {
   "codemirror_mode": {
    "name": "ipython",
    "version": 3
   },
   "file_extension": ".py",
   "mimetype": "text/x-python",
   "name": "python",
   "nbconvert_exporter": "python",
   "pygments_lexer": "ipython3",
   "version": "3.10.12"
  }
 },
 "nbformat": 4,
 "nbformat_minor": 2
}
